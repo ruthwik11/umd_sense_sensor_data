{
 "cells": [
  {
   "cell_type": "markdown",
   "metadata": {},
   "source": [
    "# Introduction\n",
    "\n",
    "In this notebook, we will compare the PM 2.5 measurements taken by the low-cost sensors developed by UMD SENSE (http://sense.umd.edu/) with the high-cost sensors already in use by the EPA. This will be done by creating a few visualizations and comparing the measurements over time. We will also take a look at some basic descriptive statistics to see how accurate our low-cost sensors are. Our goal is to see whether our sensors can be reliable enough to be deployed on a larger scale. If the sensor measurements aren't accurate enough, we will go deeper to see if there are any factors that are affecting the measurements like temperature, wind speed, atmospheric pressure, etc. \n",
    "\n",
    "For this purpose, we will be using four datasets in total (2 each for EPA and SENSE) that contain measurements for PM 2.5 at two locations in the DMV area: DC DOEE montoring station and Howard Univeristy, Beltsville, MD. We will be comparing data from 06/01/19 to 12/13/19. "
   ]
  },
  {
   "cell_type": "code",
   "execution_count": 1,
   "metadata": {},
   "outputs": [],
   "source": [
    "#Importing required libraries\n",
    "import pandas as pd\n",
    "import matplotlib.pyplot as plt\n",
    "import datetime\n",
    "from glob import glob\n",
    "import os"
   ]
  },
  {
   "cell_type": "code",
   "execution_count": 2,
   "metadata": {},
   "outputs": [],
   "source": [
    "#Defining the path and the extension of the required files\n",
    "PATH = \".\"\n",
    "EXT = \"*.csv\"\n",
    "#Fetching and storing the names of the required files in all_csv_files\n",
    "all_csv_files = []\n",
    "for path, subdir, files in os.walk(PATH):\n",
    "    for file in glob(os.path.join(path, EXT)):\n",
    "        all_csv_files.append(file)"
   ]
  },
  {
   "cell_type": "code",
   "execution_count": 4,
   "metadata": {},
   "outputs": [
    {
     "data": {
      "text/plain": [
       "['./EPA Datasets\\\\dc_p_epa.csv',\n",
       " './EPA Datasets\\\\howard_p_epa.csv',\n",
       " './SENSE Datasets\\\\dc_p_s.csv',\n",
       " './SENSE Datasets\\\\howard_p_s.csv']"
      ]
     },
     "execution_count": 4,
     "metadata": {},
     "output_type": "execute_result"
    }
   ],
   "source": [
    "#Checking if all files are fetched\n",
    "all_csv_files"
   ]
  },
  {
   "cell_type": "markdown",
   "metadata": {},
   "source": [
    "# Functions\n",
    "\n",
    "In order to comapre the PM 2.5 values, the two dataframes (EPA and SENSE) for each location, must be merged on their date-time values. Before merging and creating the final visualization, the data needs to undergo some processing. The following functions must be implemented for this:\n",
    "\n",
    "1) Drop unnecessary columns<br />\n",
    "2) Remove negative PM values<br />\n",
    "3) Create a date-time column with the format YYYY-MM-DD HH:MM:SS and drop the old date and time columns<br />\n",
    "4) Merge on the date-time values for each location<br />\n",
    "5) Add another column that measures the rolling mean (for a smoother graph) for both the EPA and the SENSE data for each location<br />\n",
    "6) Create the plot for each location<br />"
   ]
  },
  {
   "cell_type": "code",
   "execution_count": 16,
   "metadata": {},
   "outputs": [],
   "source": [
    "def drop_col(x):\n",
    "    \"\"\"Drop the unnecessary columns in EPA dataframe (has no effect on SENSE dataframe)\"\"\"\n",
    "    if('State Code' in x.columns):\n",
    "                x.drop(['State Code', 'Datum', 'Parameter Name', 'Date GMT', 'Time GMT', 'Units of Measure',\n",
    "                     'County Code', 'Site Num', 'Parameter Code', 'POC', 'Latitude', 'Longitude', 'MDL', \n",
    "                     'Method Type', 'Method Name', 'State Name', 'County Name', 'Date of Last Change', \n",
    "                     'Uncertainty', 'Qualifier', 'Method Code'], axis = 1, inplace = True)\n",
    "    "
   ]
  },
  {
   "cell_type": "code",
   "execution_count": 17,
   "metadata": {},
   "outputs": [],
   "source": [
    "def remove_negative(x):\n",
    "    \"\"\"Return the SENSE or EPA dataframe with the negative PM2.5 values removed.\"\"\"\n",
    "    if('Sample Measurement' in x.columns):\n",
    "        mask = x['Sample Measurement'] < 0\n",
    "        x = x[~mask]\n",
    "    else:\n",
    "        mask = x['PM25'] < 0\n",
    "        x = x[~mask]\n",
    "    return x"
   ]
  },
  {
   "cell_type": "code",
   "execution_count": 18,
   "metadata": {},
   "outputs": [],
   "source": [
    "def date_time(y):\n",
    "    \"\"\"Returns the SENSE or EPA dataframe with a new time column in the format YYYY-MM-DD HH:MM:SS\"\"\"\n",
    "    if('Date Local' and 'Time Local' in y.columns):\n",
    "        y['Time'] = (y['Date Local'] + \" \"\n",
    "                     + y['Time Local']).apply(lambda x: datetime.datetime.strptime(x, '%m/%d/%Y %H:%M'))\n",
    "        y.drop(['Date Local', 'Time Local'], axis = 1, inplace = True)\n",
    "    else:\n",
    "        y.rename(columns = {'data_time': 'Time'}, inplace = True)\n",
    "        y['Time'] = y['Time'].apply(lambda x: datetime.datetime.strptime(x, '%Y-%m-%d %H:%M:%S'))\n",
    "    return y"
   ]
  },
  {
   "cell_type": "code",
   "execution_count": 9,
   "metadata": {},
   "outputs": [
    {
     "name": "stderr",
     "output_type": "stream",
     "text": [
      "C:\\Users\\ruthw\\Anaconda3\\lib\\site-packages\\ipykernel_launcher.py:5: SettingWithCopyWarning: \n",
      "A value is trying to be set on a copy of a slice from a DataFrame.\n",
      "Try using .loc[row_indexer,col_indexer] = value instead\n",
      "\n",
      "See the caveats in the documentation: http://pandas.pydata.org/pandas-docs/stable/indexing.html#indexing-view-versus-copy\n",
      "  \"\"\"\n"
     ]
    }
   ],
   "source": [
    "list_df = {}\n",
    "dfs = ('epa_dc', 'epa_howard', 'sense_dc', 'sense_howard')\n",
    "for d,f in zip(dfs,all_csv_files):\n",
    "    list_df[d] = pd.read_csv(f)\n",
    "    list_df[d] = date_time(remove_negative(list_df[d]))"
   ]
  }
 ],
 "metadata": {
  "kernelspec": {
   "display_name": "Python 3",
   "language": "python",
   "name": "python3"
  },
  "language_info": {
   "codemirror_mode": {
    "name": "ipython",
    "version": 3
   },
   "file_extension": ".py",
   "mimetype": "text/x-python",
   "name": "python",
   "nbconvert_exporter": "python",
   "pygments_lexer": "ipython3",
   "version": "3.7.3"
  }
 },
 "nbformat": 4,
 "nbformat_minor": 2
}
