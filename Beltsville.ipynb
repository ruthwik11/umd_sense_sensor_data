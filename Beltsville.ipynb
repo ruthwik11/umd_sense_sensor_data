{
 "cells": [
  {
   "cell_type": "code",
   "execution_count": 2,
   "metadata": {},
   "outputs": [],
   "source": [
    "#Import relevant libraries\n",
    "import pandas as pd"
   ]
  },
  {
   "cell_type": "code",
   "execution_count": 4,
   "metadata": {},
   "outputs": [
    {
     "data": {
      "text/plain": [
       "0        0:00\n",
       "1        1:00\n",
       "2        2:00\n",
       "3        3:00\n",
       "4        4:00\n",
       "5        5:00\n",
       "6        6:00\n",
       "7        7:00\n",
       "8        8:00\n",
       "9        9:00\n",
       "10      10:00\n",
       "11      11:00\n",
       "12      12:00\n",
       "13      13:00\n",
       "14      14:00\n",
       "15      15:00\n",
       "16      16:00\n",
       "17      17:00\n",
       "18      18:00\n",
       "19      19:00\n",
       "20      20:00\n",
       "21      21:00\n",
       "22      22:00\n",
       "23      23:00\n",
       "24       0:00\n",
       "25       1:00\n",
       "26       2:00\n",
       "27       3:00\n",
       "28       4:00\n",
       "29       5:00\n",
       "        ...  \n",
       "6403    18:00\n",
       "6404    19:00\n",
       "6405    20:00\n",
       "6406    21:00\n",
       "6407    22:00\n",
       "6408    23:00\n",
       "6409     0:00\n",
       "6410     1:00\n",
       "6411     2:00\n",
       "6412     3:00\n",
       "6413     4:00\n",
       "6414     5:00\n",
       "6415     6:00\n",
       "6416     7:00\n",
       "6417     8:00\n",
       "6418     9:00\n",
       "6419    10:00\n",
       "6420    11:00\n",
       "6421    12:00\n",
       "6422    13:00\n",
       "6423    14:00\n",
       "6424    15:00\n",
       "6425    16:00\n",
       "6426    17:00\n",
       "6427    18:00\n",
       "6428    19:00\n",
       "6429    20:00\n",
       "6430    21:00\n",
       "6431    22:00\n",
       "6432    23:00\n",
       "Name: Time Local, Length: 6383, dtype: object"
      ]
     },
     "execution_count": 4,
     "metadata": {},
     "output_type": "execute_result"
    }
   ],
   "source": [
    "#Import SENSE and EPA datasets for Beltsville\n",
    "epa_data = pd.read_csv('md_beltsville.csv')\n",
    "mask = epa_data['Sample Measurement'] < 0\n",
    "epa_data = epa_data[~mask]\n",
    "epa_data['Time Local']"
   ]
  },
  {
   "cell_type": "code",
   "execution_count": 3,
   "metadata": {},
   "outputs": [],
   "source": [
    "#Drop columns that are not required\n",
    "drop = ['Parameter Code', 'POC', 'Datum', 'Date GMT', 'Time GMT', 'Date of Last Change']\n",
    "epa_data.drop(drop, axis = 1, inplace = True)"
   ]
  },
  {
   "cell_type": "code",
   "execution_count": 1,
   "metadata": {},
   "outputs": [
    {
     "ename": "NameError",
     "evalue": "name 'pd' is not defined",
     "output_type": "error",
     "traceback": [
      "\u001b[1;31m---------------------------------------------------------------------------\u001b[0m",
      "\u001b[1;31mNameError\u001b[0m                                 Traceback (most recent call last)",
      "\u001b[1;32m<ipython-input-1-17d1949c078e>\u001b[0m in \u001b[0;36m<module>\u001b[1;34m\u001b[0m\n\u001b[1;32m----> 1\u001b[1;33m \u001b[0mpm_data\u001b[0m \u001b[1;33m=\u001b[0m \u001b[0mpd\u001b[0m\u001b[1;33m.\u001b[0m\u001b[0mread_csv\u001b[0m\u001b[1;33m(\u001b[0m\u001b[1;34m'beltsville.csv'\u001b[0m\u001b[1;33m)\u001b[0m\u001b[1;33m\u001b[0m\u001b[1;33m\u001b[0m\u001b[0m\n\u001b[0m\u001b[0;32m      2\u001b[0m \u001b[0mmask1\u001b[0m \u001b[1;33m=\u001b[0m \u001b[0mpm_data\u001b[0m\u001b[1;33m[\u001b[0m\u001b[1;34m'PM25'\u001b[0m\u001b[1;33m]\u001b[0m \u001b[1;33m<\u001b[0m \u001b[1;36m0\u001b[0m\u001b[1;33m\u001b[0m\u001b[1;33m\u001b[0m\u001b[0m\n\u001b[0;32m      3\u001b[0m \u001b[0mpm_data\u001b[0m \u001b[1;33m=\u001b[0m \u001b[0mpm_data\u001b[0m\u001b[1;33m[\u001b[0m\u001b[1;33m~\u001b[0m\u001b[0mmask1\u001b[0m\u001b[1;33m]\u001b[0m\u001b[1;33m\u001b[0m\u001b[1;33m\u001b[0m\u001b[0m\n",
      "\u001b[1;31mNameError\u001b[0m: name 'pd' is not defined"
     ]
    }
   ],
   "source": [
    "#Remove PM 2.5 values that are less than 0\n",
    "pm_data = pd.read_csv('beltsville.csv')\n",
    "mask1 = pm_data['PM25'] < 0\n",
    "pm_data = pm_data[~mask1]"
   ]
  },
  {
   "cell_type": "code",
   "execution_count": 5,
   "metadata": {},
   "outputs": [
    {
     "data": {
      "text/html": [
       "<div>\n",
       "<style scoped>\n",
       "    .dataframe tbody tr th:only-of-type {\n",
       "        vertical-align: middle;\n",
       "    }\n",
       "\n",
       "    .dataframe tbody tr th {\n",
       "        vertical-align: top;\n",
       "    }\n",
       "\n",
       "    .dataframe thead th {\n",
       "        text-align: right;\n",
       "    }\n",
       "</style>\n",
       "<table border=\"1\" class=\"dataframe\">\n",
       "  <thead>\n",
       "    <tr style=\"text-align: right;\">\n",
       "      <th></th>\n",
       "      <th>PM25</th>\n",
       "    </tr>\n",
       "  </thead>\n",
       "  <tbody>\n",
       "    <tr>\n",
       "      <th>count</th>\n",
       "      <td>6648.000000</td>\n",
       "    </tr>\n",
       "    <tr>\n",
       "      <th>mean</th>\n",
       "      <td>12.713588</td>\n",
       "    </tr>\n",
       "    <tr>\n",
       "      <th>std</th>\n",
       "      <td>19.021282</td>\n",
       "    </tr>\n",
       "    <tr>\n",
       "      <th>min</th>\n",
       "      <td>0.000000</td>\n",
       "    </tr>\n",
       "    <tr>\n",
       "      <th>25%</th>\n",
       "      <td>4.350000</td>\n",
       "    </tr>\n",
       "    <tr>\n",
       "      <th>50%</th>\n",
       "      <td>8.580000</td>\n",
       "    </tr>\n",
       "    <tr>\n",
       "      <th>75%</th>\n",
       "      <td>15.712500</td>\n",
       "    </tr>\n",
       "    <tr>\n",
       "      <th>max</th>\n",
       "      <td>463.510000</td>\n",
       "    </tr>\n",
       "  </tbody>\n",
       "</table>\n",
       "</div>"
      ],
      "text/plain": [
       "              PM25\n",
       "count  6648.000000\n",
       "mean     12.713588\n",
       "std      19.021282\n",
       "min       0.000000\n",
       "25%       4.350000\n",
       "50%       8.580000\n",
       "75%      15.712500\n",
       "max     463.510000"
      ]
     },
     "execution_count": 5,
     "metadata": {},
     "output_type": "execute_result"
    }
   ],
   "source": [
    "#Verify that everything is correct\n",
    "pm_data.describe()"
   ]
  },
  {
   "cell_type": "code",
   "execution_count": 6,
   "metadata": {},
   "outputs": [],
   "source": [
    "#Rename column\n",
    "pm_data.rename(columns = {'data_time': 'Date Time'}, inplace = True)"
   ]
  },
  {
   "cell_type": "code",
   "execution_count": 7,
   "metadata": {},
   "outputs": [],
   "source": [
    "#Function for setting all time values so that they contain 4 digits \n",
    "import datetime\n",
    "\n",
    "def add_x(x):\n",
    "    if (len(x) == 4):\n",
    "        return '0' + x\n",
    "    else:\n",
    "        return x\n",
    "    "
   ]
  },
  {
   "cell_type": "code",
   "execution_count": 8,
   "metadata": {},
   "outputs": [],
   "source": [
    "#Applying the function to the Time column\n",
    "epa_data['Time Local'] = epa_data['Time Local'].apply(lambda x: add_x(x))"
   ]
  },
  {
   "cell_type": "code",
   "execution_count": 9,
   "metadata": {},
   "outputs": [],
   "source": [
    "# Mergin time and date columns\n",
    "epa_data['Date Time'] = (epa_data['Date Local'] + \" \" + epa_data['Time Local'])"
   ]
  },
  {
   "cell_type": "code",
   "execution_count": 10,
   "metadata": {},
   "outputs": [],
   "source": [
    "# Converting the date time column to an actual date time value\n",
    "epa_data['Date Time'] = epa_data['Date Time'].apply(lambda x: datetime.datetime.strptime(x, '%m/%d/%Y %H:%M'))"
   ]
  },
  {
   "cell_type": "code",
   "execution_count": 11,
   "metadata": {},
   "outputs": [],
   "source": [
    "pm_data['Date Time'] = pm_data['Date Time'].apply(lambda x: datetime.datetime.strptime(x, '%Y-%m-%d %H:%M:%S'))"
   ]
  },
  {
   "cell_type": "code",
   "execution_count": 12,
   "metadata": {},
   "outputs": [],
   "source": [
    "# Merging two datasets in order to do comparison\n",
    "merged = pd.merge(epa_data, pm_data, on='Date Time')"
   ]
  },
  {
   "cell_type": "code",
   "execution_count": 13,
   "metadata": {},
   "outputs": [
    {
     "data": {
      "text/html": [
       "<div>\n",
       "<style scoped>\n",
       "    .dataframe tbody tr th:only-of-type {\n",
       "        vertical-align: middle;\n",
       "    }\n",
       "\n",
       "    .dataframe tbody tr th {\n",
       "        vertical-align: top;\n",
       "    }\n",
       "\n",
       "    .dataframe thead th {\n",
       "        text-align: right;\n",
       "    }\n",
       "</style>\n",
       "<table border=\"1\" class=\"dataframe\">\n",
       "  <thead>\n",
       "    <tr style=\"text-align: right;\">\n",
       "      <th></th>\n",
       "      <th>State Code</th>\n",
       "      <th>County Code</th>\n",
       "      <th>Site Num</th>\n",
       "      <th>Latitude</th>\n",
       "      <th>Longitude</th>\n",
       "      <th>Parameter Name</th>\n",
       "      <th>Date Local</th>\n",
       "      <th>Time Local</th>\n",
       "      <th>Sample Measurement</th>\n",
       "      <th>Units of Measure</th>\n",
       "      <th>MDL</th>\n",
       "      <th>Uncertainty</th>\n",
       "      <th>Qualifier</th>\n",
       "      <th>Method Type</th>\n",
       "      <th>Method Code</th>\n",
       "      <th>Method Name</th>\n",
       "      <th>State Name</th>\n",
       "      <th>County Name</th>\n",
       "      <th>Date Time</th>\n",
       "      <th>PM25</th>\n",
       "    </tr>\n",
       "  </thead>\n",
       "  <tbody>\n",
       "    <tr>\n",
       "      <th>0</th>\n",
       "      <td>24</td>\n",
       "      <td>33</td>\n",
       "      <td>30</td>\n",
       "      <td>39.055277</td>\n",
       "      <td>-76.878333</td>\n",
       "      <td>PM2.5 - Local Conditions</td>\n",
       "      <td>5/31/2019</td>\n",
       "      <td>15:00</td>\n",
       "      <td>5</td>\n",
       "      <td>Micrograms/cubic meter (LC)</td>\n",
       "      <td>5</td>\n",
       "      <td>NaN</td>\n",
       "      <td>NaN</td>\n",
       "      <td>FEM</td>\n",
       "      <td>170</td>\n",
       "      <td>Met One BAM-1020 Mass Monitor w/VSCC - Beta At...</td>\n",
       "      <td>Maryland</td>\n",
       "      <td>Prince George's</td>\n",
       "      <td>2019-05-31 15:00:00</td>\n",
       "      <td>5.12</td>\n",
       "    </tr>\n",
       "    <tr>\n",
       "      <th>1</th>\n",
       "      <td>24</td>\n",
       "      <td>33</td>\n",
       "      <td>30</td>\n",
       "      <td>39.055277</td>\n",
       "      <td>-76.878333</td>\n",
       "      <td>PM2.5 - Local Conditions</td>\n",
       "      <td>5/31/2019</td>\n",
       "      <td>16:00</td>\n",
       "      <td>4</td>\n",
       "      <td>Micrograms/cubic meter (LC)</td>\n",
       "      <td>5</td>\n",
       "      <td>NaN</td>\n",
       "      <td>NaN</td>\n",
       "      <td>FEM</td>\n",
       "      <td>170</td>\n",
       "      <td>Met One BAM-1020 Mass Monitor w/VSCC - Beta At...</td>\n",
       "      <td>Maryland</td>\n",
       "      <td>Prince George's</td>\n",
       "      <td>2019-05-31 16:00:00</td>\n",
       "      <td>5.61</td>\n",
       "    </tr>\n",
       "    <tr>\n",
       "      <th>2</th>\n",
       "      <td>24</td>\n",
       "      <td>33</td>\n",
       "      <td>30</td>\n",
       "      <td>39.055277</td>\n",
       "      <td>-76.878333</td>\n",
       "      <td>PM2.5 - Local Conditions</td>\n",
       "      <td>5/31/2019</td>\n",
       "      <td>17:00</td>\n",
       "      <td>7</td>\n",
       "      <td>Micrograms/cubic meter (LC)</td>\n",
       "      <td>5</td>\n",
       "      <td>NaN</td>\n",
       "      <td>NaN</td>\n",
       "      <td>FEM</td>\n",
       "      <td>170</td>\n",
       "      <td>Met One BAM-1020 Mass Monitor w/VSCC - Beta At...</td>\n",
       "      <td>Maryland</td>\n",
       "      <td>Prince George's</td>\n",
       "      <td>2019-05-31 17:00:00</td>\n",
       "      <td>5.17</td>\n",
       "    </tr>\n",
       "    <tr>\n",
       "      <th>3</th>\n",
       "      <td>24</td>\n",
       "      <td>33</td>\n",
       "      <td>30</td>\n",
       "      <td>39.055277</td>\n",
       "      <td>-76.878333</td>\n",
       "      <td>PM2.5 - Local Conditions</td>\n",
       "      <td>5/31/2019</td>\n",
       "      <td>18:00</td>\n",
       "      <td>6</td>\n",
       "      <td>Micrograms/cubic meter (LC)</td>\n",
       "      <td>5</td>\n",
       "      <td>NaN</td>\n",
       "      <td>NaN</td>\n",
       "      <td>FEM</td>\n",
       "      <td>170</td>\n",
       "      <td>Met One BAM-1020 Mass Monitor w/VSCC - Beta At...</td>\n",
       "      <td>Maryland</td>\n",
       "      <td>Prince George's</td>\n",
       "      <td>2019-05-31 18:00:00</td>\n",
       "      <td>5.92</td>\n",
       "    </tr>\n",
       "    <tr>\n",
       "      <th>4</th>\n",
       "      <td>24</td>\n",
       "      <td>33</td>\n",
       "      <td>30</td>\n",
       "      <td>39.055277</td>\n",
       "      <td>-76.878333</td>\n",
       "      <td>PM2.5 - Local Conditions</td>\n",
       "      <td>5/31/2019</td>\n",
       "      <td>19:00</td>\n",
       "      <td>8</td>\n",
       "      <td>Micrograms/cubic meter (LC)</td>\n",
       "      <td>5</td>\n",
       "      <td>NaN</td>\n",
       "      <td>NaN</td>\n",
       "      <td>FEM</td>\n",
       "      <td>170</td>\n",
       "      <td>Met One BAM-1020 Mass Monitor w/VSCC - Beta At...</td>\n",
       "      <td>Maryland</td>\n",
       "      <td>Prince George's</td>\n",
       "      <td>2019-05-31 19:00:00</td>\n",
       "      <td>5.79</td>\n",
       "    </tr>\n",
       "  </tbody>\n",
       "</table>\n",
       "</div>"
      ],
      "text/plain": [
       "   State Code  County Code  Site Num   Latitude  Longitude  \\\n",
       "0          24           33        30  39.055277 -76.878333   \n",
       "1          24           33        30  39.055277 -76.878333   \n",
       "2          24           33        30  39.055277 -76.878333   \n",
       "3          24           33        30  39.055277 -76.878333   \n",
       "4          24           33        30  39.055277 -76.878333   \n",
       "\n",
       "             Parameter Name Date Local Time Local  Sample Measurement  \\\n",
       "0  PM2.5 - Local Conditions  5/31/2019      15:00                   5   \n",
       "1  PM2.5 - Local Conditions  5/31/2019      16:00                   4   \n",
       "2  PM2.5 - Local Conditions  5/31/2019      17:00                   7   \n",
       "3  PM2.5 - Local Conditions  5/31/2019      18:00                   6   \n",
       "4  PM2.5 - Local Conditions  5/31/2019      19:00                   8   \n",
       "\n",
       "              Units of Measure  MDL  Uncertainty  Qualifier Method Type  \\\n",
       "0  Micrograms/cubic meter (LC)    5          NaN        NaN         FEM   \n",
       "1  Micrograms/cubic meter (LC)    5          NaN        NaN         FEM   \n",
       "2  Micrograms/cubic meter (LC)    5          NaN        NaN         FEM   \n",
       "3  Micrograms/cubic meter (LC)    5          NaN        NaN         FEM   \n",
       "4  Micrograms/cubic meter (LC)    5          NaN        NaN         FEM   \n",
       "\n",
       "   Method Code                                        Method Name State Name  \\\n",
       "0          170  Met One BAM-1020 Mass Monitor w/VSCC - Beta At...   Maryland   \n",
       "1          170  Met One BAM-1020 Mass Monitor w/VSCC - Beta At...   Maryland   \n",
       "2          170  Met One BAM-1020 Mass Monitor w/VSCC - Beta At...   Maryland   \n",
       "3          170  Met One BAM-1020 Mass Monitor w/VSCC - Beta At...   Maryland   \n",
       "4          170  Met One BAM-1020 Mass Monitor w/VSCC - Beta At...   Maryland   \n",
       "\n",
       "       County Name           Date Time  PM25  \n",
       "0  Prince George's 2019-05-31 15:00:00  5.12  \n",
       "1  Prince George's 2019-05-31 16:00:00  5.61  \n",
       "2  Prince George's 2019-05-31 17:00:00  5.17  \n",
       "3  Prince George's 2019-05-31 18:00:00  5.92  \n",
       "4  Prince George's 2019-05-31 19:00:00  5.79  "
      ]
     },
     "execution_count": 13,
     "metadata": {},
     "output_type": "execute_result"
    }
   ],
   "source": [
    "merged.head()"
   ]
  },
  {
   "cell_type": "code",
   "execution_count": 14,
   "metadata": {},
   "outputs": [],
   "source": [
    "#Calculating Error\n",
    "merged['Error'] = merged['Sample Measurement'] - merged['PM25']"
   ]
  },
  {
   "cell_type": "code",
   "execution_count": 15,
   "metadata": {},
   "outputs": [],
   "source": [
    "#Removing high error values from the table\n",
    "mask = (merged['Error'] < 100) & (merged['Error'] > -100)\n",
    "merged = merged[mask]"
   ]
  },
  {
   "cell_type": "code",
   "execution_count": 16,
   "metadata": {},
   "outputs": [],
   "source": [
    "# Setting time as the index for the table\n",
    "merged.index = merged['Date Time']"
   ]
  },
  {
   "cell_type": "code",
   "execution_count": 21,
   "metadata": {},
   "outputs": [],
   "source": [
    "#Using rolling mean to create a new column\n",
    "merged['SENSE'] = merged['PM25'].rolling(24).mean()"
   ]
  },
  {
   "cell_type": "code",
   "execution_count": 22,
   "metadata": {},
   "outputs": [],
   "source": [
    "merged['EPA'] = merged['Sample Measurement'].rolling(24).mean()"
   ]
  },
  {
   "cell_type": "code",
   "execution_count": 23,
   "metadata": {},
   "outputs": [],
   "source": [
    "#Remove null values\n",
    "merged = merged[merged['EPA'].notna()]\n",
    "merged = merged[merged['SENSE'].notna()]\n"
   ]
  },
  {
   "cell_type": "code",
   "execution_count": 36,
   "metadata": {},
   "outputs": [
    {
     "data": {
      "text/plain": [
       "<matplotlib.axes._subplots.AxesSubplot at 0x175ae7c4710>"
      ]
     },
     "execution_count": 36,
     "metadata": {},
     "output_type": "execute_result"
    },
    {
     "data": {
      "image/png": "[encoded data removed]",
      "text/plain": [
       "<Figure size 1080x288 with 2 Axes>"
      ]
     },
     "metadata": {
      "needs_background": "light"
     },
     "output_type": "display_data"
    }
   ],
   "source": [
    "# Creating a plot with two subplots in it\n",
    "import matplotlib.pyplot as plt\n",
    "\n",
    "fig, axes = plt.subplots(nrows=2, ncols=1)\n",
    "#Plotting time vs values\n",
    "merged.plot(x = \"Date Time\", y = [\"PM25\", \"Sample Measurement\"], figsize = (15,4), ax=axes[0])\n",
    "merged.plot(x=\"Date Time\", y=[\"SENSE\", \"EPA\"], figsize = (15,4), ax=axes[1])"
   ]
  },
  {
   "cell_type": "code",
   "execution_count": null,
   "metadata": {},
   "outputs": [],
   "source": []
  }
 ],
 "metadata": {
  "kernelspec": {
   "display_name": "Python 3",
   "language": "python",
   "name": "python3"
  },
  "language_info": {
   "codemirror_mode": {
    "name": "ipython",
    "version": 3
   },
   "file_extension": ".py",
   "mimetype": "text/x-python",
   "name": "python",
   "nbconvert_exporter": "python",
   "pygments_lexer": "ipython3",
   "version": "3.7.3"
  }
 },
 "nbformat": 4,
 "nbformat_minor": 2
}
